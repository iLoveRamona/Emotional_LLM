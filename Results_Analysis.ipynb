{
 "cells": [
  {
   "cell_type": "markdown",
   "id": "80cd69c4-b702-41de-a25f-7b43db56afed",
   "metadata": {},
   "source": [
    "# YandexgGPT results in Centipede game"
   ]
  },
  {
   "cell_type": "code",
   "execution_count": 1,
   "id": "8f79d470-3e11-4bbf-8fbb-ce387975b02d",
   "metadata": {},
   "outputs": [],
   "source": [
    "import pandas as pd\n",
    "import numpy as np\n",
    "import seaborn as sns\n",
    "from matplotlib import pyplot as plt"
   ]
  },
  {
   "cell_type": "code",
   "execution_count": 2,
   "id": "b7152653-a87d-4133-8c9e-263b5d609682",
   "metadata": {},
   "outputs": [],
   "source": [
    "df = pd.read_csv('solo_results_llm_first_move.csv')"
   ]
  },
  {
   "cell_type": "code",
   "execution_count": 3,
   "id": "8b76bc79-f1ea-43a6-ab72-45f3d3c8fd02",
   "metadata": {},
   "outputs": [
    {
     "data": {
      "text/plain": [
       "(2162, 6)"
      ]
     },
     "execution_count": 3,
     "metadata": {},
     "output_type": "execute_result"
    }
   ],
   "source": [
    "df.shape"
   ]
  },
  {
   "cell_type": "code",
   "execution_count": 4,
   "id": "218016e9-a5d4-4166-8d5f-0936d7571dab",
   "metadata": {},
   "outputs": [
    {
     "data": {
      "text/html": [
       "<div>\n",
       "<style scoped>\n",
       "    .dataframe tbody tr th:only-of-type {\n",
       "        vertical-align: middle;\n",
       "    }\n",
       "\n",
       "    .dataframe tbody tr th {\n",
       "        vertical-align: top;\n",
       "    }\n",
       "\n",
       "    .dataframe thead th {\n",
       "        text-align: right;\n",
       "    }\n",
       "</style>\n",
       "<table border=\"1\" class=\"dataframe\">\n",
       "  <thead>\n",
       "    <tr style=\"text-align: right;\">\n",
       "      <th></th>\n",
       "      <th>game</th>\n",
       "      <th>round</th>\n",
       "      <th>player</th>\n",
       "      <th>emotional_state</th>\n",
       "      <th>action</th>\n",
       "      <th>explanation</th>\n",
       "    </tr>\n",
       "  </thead>\n",
       "  <tbody>\n",
       "    <tr>\n",
       "      <th>2047</th>\n",
       "      <td>2b989b1d-af2a-4533-bc43-56f4e90aa7c2</td>\n",
       "      <td>7</td>\n",
       "      <td>Пользователь_1</td>\n",
       "      <td>нейтральный</td>\n",
       "      <td>pass</td>\n",
       "      <td>\\n\\nв текущем раунде выгоднее передать обе сто...</td>\n",
       "    </tr>\n",
       "    <tr>\n",
       "      <th>1658</th>\n",
       "      <td>4c2c455e-7b1c-4e26-9c24-9ae090e9bdbd</td>\n",
       "      <td>4</td>\n",
       "      <td>Пользователь_2</td>\n",
       "      <td>неважно</td>\n",
       "      <td>pass</td>\n",
       "      <td>без комментариев</td>\n",
       "    </tr>\n",
       "    <tr>\n",
       "      <th>1092</th>\n",
       "      <td>687dce24-f468-4d3d-b412-d47bad1d4538</td>\n",
       "      <td>6</td>\n",
       "      <td>Пользователь_2</td>\n",
       "      <td>неважно</td>\n",
       "      <td>pass</td>\n",
       "      <td>без комментариев</td>\n",
       "    </tr>\n",
       "    <tr>\n",
       "      <th>1961</th>\n",
       "      <td>fef98944-23c5-4b10-a591-e57366fb7fa6</td>\n",
       "      <td>1</td>\n",
       "      <td>Пользователь_1</td>\n",
       "      <td>злой</td>\n",
       "      <td>take</td>\n",
       "      <td>\\n\\nпоскольку я злой, то могу попытаться сразу...</td>\n",
       "    </tr>\n",
       "    <tr>\n",
       "      <th>1809</th>\n",
       "      <td>f982a215-2fcf-45b9-8ec4-bee2c2f6796f</td>\n",
       "      <td>4</td>\n",
       "      <td>Пользователь_2</td>\n",
       "      <td>неважно</td>\n",
       "      <td>pass</td>\n",
       "      <td>без комментариев</td>\n",
       "    </tr>\n",
       "  </tbody>\n",
       "</table>\n",
       "</div>"
      ],
      "text/plain": [
       "                                      game  round          player  \\\n",
       "2047  2b989b1d-af2a-4533-bc43-56f4e90aa7c2      7  Пользователь_1   \n",
       "1658  4c2c455e-7b1c-4e26-9c24-9ae090e9bdbd      4  Пользователь_2   \n",
       "1092  687dce24-f468-4d3d-b412-d47bad1d4538      6  Пользователь_2   \n",
       "1961  fef98944-23c5-4b10-a591-e57366fb7fa6      1  Пользователь_1   \n",
       "1809  f982a215-2fcf-45b9-8ec4-bee2c2f6796f      4  Пользователь_2   \n",
       "\n",
       "     emotional_state action                                        explanation  \n",
       "2047     нейтральный   pass  \\n\\nв текущем раунде выгоднее передать обе сто...  \n",
       "1658         неважно   pass                                  без комментариев   \n",
       "1092         неважно   pass                                  без комментариев   \n",
       "1961            злой   take  \\n\\nпоскольку я злой, то могу попытаться сразу...  \n",
       "1809         неважно   pass                                  без комментариев   "
      ]
     },
     "execution_count": 4,
     "metadata": {},
     "output_type": "execute_result"
    }
   ],
   "source": [
    "df.sample(5)"
   ]
  },
  {
   "cell_type": "code",
   "execution_count": 5,
   "id": "0be706df-f4d7-455a-bdf3-d7812696a6cf",
   "metadata": {},
   "outputs": [
    {
     "data": {
      "text/plain": [
       "array(['радостный', 'грустный', 'неважно', 'гневный', 'испуганный',\n",
       "       'удивленный', 'злой', 'нейтральный'], dtype=object)"
      ]
     },
     "execution_count": 5,
     "metadata": {},
     "output_type": "execute_result"
    }
   ],
   "source": [
    "df['emotional_state'].unique()"
   ]
  },
  {
   "cell_type": "markdown",
   "id": "df32a0bf-8994-4a4b-bb82-d6f6add1de50",
   "metadata": {},
   "source": [
    "#### Можем выкинуть эти строки, так как они не влияют на дальнейший анализ (по сути избавились от 2-го игрока)"
   ]
  },
  {
   "cell_type": "code",
   "execution_count": 6,
   "id": "79fce06b-118e-47c0-92dd-0f774c08408a",
   "metadata": {},
   "outputs": [],
   "source": [
    "df = df[df['emotional_state'] != 'неважно']"
   ]
  },
  {
   "cell_type": "markdown",
   "id": "4fb93005-6c90-4b4f-a25c-e4560e13c796",
   "metadata": {},
   "source": [
    "#### Число игр для каждого эмоционального состояния (проверить баланс классов)"
   ]
  },
  {
   "cell_type": "code",
   "execution_count": 7,
   "id": "805878b9-c3eb-4e49-ad4d-138c3ff8a7f5",
   "metadata": {},
   "outputs": [
    {
     "name": "stdout",
     "output_type": "stream",
     "text": [
      "Total number of games played:  661\n"
     ]
    },
    {
     "data": {
      "text/html": [
       "<div>\n",
       "<style scoped>\n",
       "    .dataframe tbody tr th:only-of-type {\n",
       "        vertical-align: middle;\n",
       "    }\n",
       "\n",
       "    .dataframe tbody tr th {\n",
       "        vertical-align: top;\n",
       "    }\n",
       "\n",
       "    .dataframe thead th {\n",
       "        text-align: right;\n",
       "    }\n",
       "</style>\n",
       "<table border=\"1\" class=\"dataframe\">\n",
       "  <thead>\n",
       "    <tr style=\"text-align: right;\">\n",
       "      <th></th>\n",
       "      <th>emotional_state</th>\n",
       "      <th>Number_of_Games</th>\n",
       "    </tr>\n",
       "  </thead>\n",
       "  <tbody>\n",
       "    <tr>\n",
       "      <th>0</th>\n",
       "      <td>гневный</td>\n",
       "      <td>91</td>\n",
       "    </tr>\n",
       "    <tr>\n",
       "      <th>1</th>\n",
       "      <td>грустный</td>\n",
       "      <td>100</td>\n",
       "    </tr>\n",
       "    <tr>\n",
       "      <th>2</th>\n",
       "      <td>злой</td>\n",
       "      <td>100</td>\n",
       "    </tr>\n",
       "    <tr>\n",
       "      <th>3</th>\n",
       "      <td>испуганный</td>\n",
       "      <td>100</td>\n",
       "    </tr>\n",
       "    <tr>\n",
       "      <th>4</th>\n",
       "      <td>нейтральный</td>\n",
       "      <td>90</td>\n",
       "    </tr>\n",
       "    <tr>\n",
       "      <th>5</th>\n",
       "      <td>радостный</td>\n",
       "      <td>85</td>\n",
       "    </tr>\n",
       "    <tr>\n",
       "      <th>6</th>\n",
       "      <td>удивленный</td>\n",
       "      <td>95</td>\n",
       "    </tr>\n",
       "  </tbody>\n",
       "</table>\n",
       "</div>"
      ],
      "text/plain": [
       "  emotional_state  Number_of_Games\n",
       "0         гневный               91\n",
       "1        грустный              100\n",
       "2            злой              100\n",
       "3      испуганный              100\n",
       "4     нейтральный               90\n",
       "5       радостный               85\n",
       "6      удивленный               95"
      ]
     },
     "execution_count": 7,
     "metadata": {},
     "output_type": "execute_result"
    }
   ],
   "source": [
    "games_per_emotional_state = df.groupby('emotional_state')['game'].nunique().reset_index()\n",
    "games_per_emotional_state.columns = ['emotional_state', 'Number_of_Games']\n",
    "print('Total number of games played: ', games_per_emotional_state['Number_of_Games'].sum())\n",
    "games_per_emotional_state"
   ]
  },
  {
   "cell_type": "markdown",
   "id": "22d0820d-058b-4fe0-889a-d09c86112e2a",
   "metadata": {},
   "source": [
    "#### Максимальное число раундов для каждого эмоционального состояния"
   ]
  },
  {
   "cell_type": "code",
   "execution_count": 8,
   "id": "319f41f0-f25f-4c97-b2e7-9b337dcc8e17",
   "metadata": {},
   "outputs": [
    {
     "data": {
      "image/png": "[encoded data removed]",
      "text/plain": [
       "<Figure size 1200x800 with 1 Axes>"
      ]
     },
     "metadata": {},
     "output_type": "display_data"
    }
   ],
   "source": [
    "max_rounds_per_emotional_state = df.groupby('emotional_state')['round'].max().reset_index()\n",
    "max_rounds_per_emotional_state.columns = ['emotional_state', 'max_round']\n",
    "\n",
    "plt.figure(figsize=(12, 8))\n",
    "sns.barplot(data=max_rounds_per_emotional_state, x='emotional_state', y='max_round')\n",
    "plt.title('Maximum Number of Rounds per Emotional State')\n",
    "plt.xlabel('Emotional State')\n",
    "plt.ylabel('Max Rounds')\n",
    "plt.show()"
   ]
  },
  {
   "cell_type": "markdown",
   "id": "a3e50fa2-385e-42d1-82ec-b208159148ba",
   "metadata": {},
   "source": [
    "#### Среднее число раундов для каждого эмоционального состояния"
   ]
  },
  {
   "cell_type": "code",
   "execution_count": 9,
   "id": "561dc368-54f5-4f96-a372-c3bc7320a767",
   "metadata": {
    "scrolled": true
   },
   "outputs": [
    {
     "data": {
      "image/png": "[encoded data removed]",
      "text/plain": [
       "<Figure size 1200x800 with 1 Axes>"
      ]
     },
     "metadata": {},
     "output_type": "display_data"
    }
   ],
   "source": [
    "avg_rounds_per_emotional_state = df.groupby('emotional_state')['round'].mean().reset_index()\n",
    "avg_rounds_per_emotional_state.columns = ['emotional_state', 'avg_round']\n",
    "\n",
    "plt.figure(figsize=(12, 8))\n",
    "sns.barplot(data=avg_rounds_per_emotional_state, x='emotional_state', y='avg_round')\n",
    "plt.title('Average Number of Rounds per Emotional State')\n",
    "plt.xlabel('Emotional State')\n",
    "plt.ylabel('Average Rounds')\n",
    "plt.show()"
   ]
  },
  {
   "cell_type": "code",
   "execution_count": 10,
   "id": "941d42d6-99ad-4b2f-9413-2b2548a8cbc5",
   "metadata": {},
   "outputs": [
    {
     "data": {
      "text/html": [
       "<div>\n",
       "<style scoped>\n",
       "    .dataframe tbody tr th:only-of-type {\n",
       "        vertical-align: middle;\n",
       "    }\n",
       "\n",
       "    .dataframe tbody tr th {\n",
       "        vertical-align: top;\n",
       "    }\n",
       "\n",
       "    .dataframe thead th {\n",
       "        text-align: right;\n",
       "    }\n",
       "</style>\n",
       "<table border=\"1\" class=\"dataframe\">\n",
       "  <thead>\n",
       "    <tr style=\"text-align: right;\">\n",
       "      <th></th>\n",
       "      <th>emotional_state</th>\n",
       "      <th>avg_round</th>\n",
       "    </tr>\n",
       "  </thead>\n",
       "  <tbody>\n",
       "    <tr>\n",
       "      <th>0</th>\n",
       "      <td>гневный</td>\n",
       "      <td>1.000000</td>\n",
       "    </tr>\n",
       "    <tr>\n",
       "      <th>1</th>\n",
       "      <td>грустный</td>\n",
       "      <td>3.091873</td>\n",
       "    </tr>\n",
       "    <tr>\n",
       "      <th>2</th>\n",
       "      <td>злой</td>\n",
       "      <td>1.000000</td>\n",
       "    </tr>\n",
       "    <tr>\n",
       "      <th>3</th>\n",
       "      <td>испуганный</td>\n",
       "      <td>4.415313</td>\n",
       "    </tr>\n",
       "    <tr>\n",
       "      <th>4</th>\n",
       "      <td>нейтральный</td>\n",
       "      <td>3.562278</td>\n",
       "    </tr>\n",
       "    <tr>\n",
       "      <th>5</th>\n",
       "      <td>радостный</td>\n",
       "      <td>1.000000</td>\n",
       "    </tr>\n",
       "    <tr>\n",
       "      <th>6</th>\n",
       "      <td>удивленный</td>\n",
       "      <td>1.771429</td>\n",
       "    </tr>\n",
       "  </tbody>\n",
       "</table>\n",
       "</div>"
      ],
      "text/plain": [
       "  emotional_state  avg_round\n",
       "0         гневный   1.000000\n",
       "1        грустный   3.091873\n",
       "2            злой   1.000000\n",
       "3      испуганный   4.415313\n",
       "4     нейтральный   3.562278\n",
       "5       радостный   1.000000\n",
       "6      удивленный   1.771429"
      ]
     },
     "execution_count": 10,
     "metadata": {},
     "output_type": "execute_result"
    }
   ],
   "source": [
    "avg_rounds_per_emotional_state"
   ]
  },
  {
   "cell_type": "markdown",
   "id": "212721ad-74da-485c-9687-1ebd6243e59b",
   "metadata": {},
   "source": [
    "#### Медианное число раундов для каждого эмоционального состояния"
   ]
  },
  {
   "cell_type": "code",
   "execution_count": 11,
   "id": "bade7cb7-0d92-4383-b574-0a7cb0b90c1f",
   "metadata": {},
   "outputs": [
    {
     "data": {
      "image/png": "[encoded data removed]",
      "text/plain": [
       "<Figure size 1200x800 with 1 Axes>"
      ]
     },
     "metadata": {},
     "output_type": "display_data"
    }
   ],
   "source": [
    "median_rounds_per_emotional_state = df.groupby('emotional_state')['round'].median().reset_index()\n",
    "median_rounds_per_emotional_state.columns = ['emotional_state', 'median_round']\n",
    "\n",
    "plt.figure(figsize=(12, 8))\n",
    "sns.barplot(data=median_rounds_per_emotional_state, x='emotional_state', y='median_round')\n",
    "plt.title('Median Number of Rounds per Emotional State')\n",
    "plt.xlabel('Emotional State')\n",
    "plt.ylabel('Median Rounds')\n",
    "plt.show()"
   ]
  },
  {
   "cell_type": "markdown",
   "id": "d4673770-2f65-4842-aac2-a36a387537e6",
   "metadata": {},
   "source": [
    "# Ananlysis"
   ]
  },
  {
   "cell_type": "code",
   "execution_count": 12,
   "id": "0f8e3429-6f03-4a1a-8566-bf34ef01d0f4",
   "metadata": {},
   "outputs": [],
   "source": [
    "df_grouped = df.groupby('emotional_state')['explanation'].apply(lambda x: ' '.join(x)).reset_index()"
   ]
  },
  {
   "cell_type": "code",
   "execution_count": 13,
   "id": "47949b8c-89b7-402e-992c-0640c0677fe4",
   "metadata": {},
   "outputs": [
    {
     "name": "stderr",
     "output_type": "stream",
     "text": [
      "[nltk_data] Downloading package stopwords to /Users/ivan/nltk_data...\n",
      "[nltk_data]   Package stopwords is already up-to-date!\n"
     ]
    }
   ],
   "source": [
    "import re\n",
    "import nltk\n",
    "from nltk.corpus import stopwords\n",
    "from pymorphy3 import MorphAnalyzer\n",
    "from sklearn.metrics.pairwise import cosine_similarity\n",
    "from sklearn.feature_extraction.text import TfidfVectorizer\n",
    "\n",
    "nltk.download('stopwords')\n",
    "stop_words = set(stopwords.words('russian') + ['это'])\n",
    "morph = MorphAnalyzer()\n",
    "\n",
    "def preprocess_text(text):\n",
    "    text = text.lower()\n",
    "    # Убираем пунктуацию и числа\n",
    "    text = re.sub(r'\\W+', ' ', text)\n",
    "    \n",
    "    words = text.split()\n",
    "    words = [morph.normal_forms(word)[0] for word in words if word not in stop_words]\n",
    "    return ' '.join(words)\n",
    "\n",
    "df_grouped['cleaned_explanation'] = df_grouped['explanation'].apply(preprocess_text)"
   ]
  },
  {
   "cell_type": "code",
   "execution_count": null,
   "id": "77d3ce9a-4560-4998-a4ed-50af6687b638",
   "metadata": {},
   "outputs": [],
   "source": []
  },
  {
   "cell_type": "code",
   "execution_count": 14,
   "id": "450b33a5-8fdc-48f9-8f50-946e98e4223b",
   "metadata": {},
   "outputs": [],
   "source": [
    "vectorizer = TfidfVectorizer()\n",
    "X = vectorizer.fit_transform(df_grouped['cleaned_explanation'])\n",
    "cosine_similarities = cosine_similarity(X, X)\n",
    "\n",
    "similarity_df = pd.DataFrame(cosine_similarities, index=df_grouped['emotional_state'], columns=df_grouped['emotional_state'])\n",
    "\n",
    "def get_similar_emotional_states(similarity_df, threshold=0.5):\n",
    "    similar_states = []\n",
    "    for i in range(len(similarity_df)):\n",
    "        for j in range(i+1, len(similarity_df)):\n",
    "            if similarity_df.iloc[i, j] > threshold:\n",
    "                similar_states.append((similarity_df.index[i], similarity_df.index[j], similarity_df.iloc[i, j]))\n",
    "    return similar_states\n",
    "\n",
    "similar_states = get_similar_emotional_states(similarity_df, threshold=0.8)"
   ]
  },
  {
   "cell_type": "code",
   "execution_count": 15,
   "id": "0627c055-4902-416d-b846-5865fa7e4312",
   "metadata": {},
   "outputs": [
    {
     "data": {
      "text/plain": [
       "[('грустный', 'нейтральный', 0.9053331581904615),\n",
       " ('грустный', 'удивленный', 0.8283420621207741),\n",
       " ('нейтральный', 'радостный', 0.8217218077311015),\n",
       " ('нейтральный', 'удивленный', 0.8718247384337245),\n",
       " ('радостный', 'удивленный', 0.8036095308324874)]"
      ]
     },
     "execution_count": 15,
     "metadata": {},
     "output_type": "execute_result"
    }
   ],
   "source": [
    "similar_states"
   ]
  },
  {
   "cell_type": "markdown",
   "id": "e24ff021-b464-4eb8-b7d8-23bf665fdf34",
   "metadata": {},
   "source": [
    "#### Нужно переписать!"
   ]
  },
  {
   "cell_type": "code",
   "execution_count": 16,
   "id": "b331dc7c-a782-4f80-83d2-c18ab53a0895",
   "metadata": {},
   "outputs": [],
   "source": [
    "vectorizer = TfidfVectorizer()\n",
    "X = vectorizer.fit_transform(df_grouped['cleaned_explanation'])\n",
    "\n",
    "feature_names = vectorizer.get_feature_names_out()\n",
    "\n",
    "tfidf_sums = X.sum(axis=0).A1\n",
    "\n",
    "tfidf_df = pd.DataFrame({'term': feature_names, 'tfidf_sum': tfidf_sums})\n",
    "\n",
    "tfidf_df = tfidf_df.sort_values(by='tfidf_sum', ascending=False)\n",
    "\n",
    "top_n = 15\n",
    "top_terms = tfidf_df.head(top_n)"
   ]
  },
  {
   "cell_type": "code",
   "execution_count": 17,
   "id": "cec0b13e-ce5d-4aaa-ac07-5b3e714d7d64",
   "metadata": {},
   "outputs": [
    {
     "data": {
      "text/html": [
       "<div>\n",
       "<style scoped>\n",
       "    .dataframe tbody tr th:only-of-type {\n",
       "        vertical-align: middle;\n",
       "    }\n",
       "\n",
       "    .dataframe tbody tr th {\n",
       "        vertical-align: top;\n",
       "    }\n",
       "\n",
       "    .dataframe thead th {\n",
       "        text-align: right;\n",
       "    }\n",
       "</style>\n",
       "<table border=\"1\" class=\"dataframe\">\n",
       "  <thead>\n",
       "    <tr style=\"text-align: right;\">\n",
       "      <th></th>\n",
       "      <th>term</th>\n",
       "      <th>tfidf_sum</th>\n",
       "    </tr>\n",
       "  </thead>\n",
       "  <tbody>\n",
       "    <tr>\n",
       "      <th>312</th>\n",
       "      <td>монета</td>\n",
       "      <td>3.180597</td>\n",
       "    </tr>\n",
       "    <tr>\n",
       "      <th>825</th>\n",
       "      <td>стопка</td>\n",
       "      <td>2.383819</td>\n",
       "    </tr>\n",
       "    <tr>\n",
       "      <th>711</th>\n",
       "      <td>раунд</td>\n",
       "      <td>1.821773</td>\n",
       "    </tr>\n",
       "    <tr>\n",
       "      <th>210</th>\n",
       "      <td>игра</td>\n",
       "      <td>1.589996</td>\n",
       "    </tr>\n",
       "    <tr>\n",
       "      <th>41</th>\n",
       "      <td>больший</td>\n",
       "      <td>1.235116</td>\n",
       "    </tr>\n",
       "    <tr>\n",
       "      <th>70</th>\n",
       "      <td>взять</td>\n",
       "      <td>1.217818</td>\n",
       "    </tr>\n",
       "    <tr>\n",
       "      <th>431</th>\n",
       "      <td>оппонент</td>\n",
       "      <td>1.088398</td>\n",
       "    </tr>\n",
       "    <tr>\n",
       "      <th>480</th>\n",
       "      <td>первый</td>\n",
       "      <td>0.975791</td>\n",
       "    </tr>\n",
       "    <tr>\n",
       "      <th>538</th>\n",
       "      <td>получить</td>\n",
       "      <td>0.938237</td>\n",
       "    </tr>\n",
       "    <tr>\n",
       "      <th>213</th>\n",
       "      <td>игрок</td>\n",
       "      <td>0.845248</td>\n",
       "    </tr>\n",
       "    <tr>\n",
       "      <th>914</th>\n",
       "      <td>ход</td>\n",
       "      <td>0.739722</td>\n",
       "    </tr>\n",
       "    <tr>\n",
       "      <th>612</th>\n",
       "      <td>преимущество</td>\n",
       "      <td>0.731701</td>\n",
       "    </tr>\n",
       "    <tr>\n",
       "      <th>179</th>\n",
       "      <td>забрать</td>\n",
       "      <td>0.730453</td>\n",
       "    </tr>\n",
       "    <tr>\n",
       "      <th>246</th>\n",
       "      <td>испуганный</td>\n",
       "      <td>0.644753</td>\n",
       "    </tr>\n",
       "    <tr>\n",
       "      <th>137</th>\n",
       "      <td>действие</td>\n",
       "      <td>0.592960</td>\n",
       "    </tr>\n",
       "  </tbody>\n",
       "</table>\n",
       "</div>"
      ],
      "text/plain": [
       "             term  tfidf_sum\n",
       "312        монета   3.180597\n",
       "825        стопка   2.383819\n",
       "711         раунд   1.821773\n",
       "210          игра   1.589996\n",
       "41        больший   1.235116\n",
       "70          взять   1.217818\n",
       "431      оппонент   1.088398\n",
       "480        первый   0.975791\n",
       "538      получить   0.938237\n",
       "213         игрок   0.845248\n",
       "914           ход   0.739722\n",
       "612  преимущество   0.731701\n",
       "179       забрать   0.730453\n",
       "246    испуганный   0.644753\n",
       "137      действие   0.592960"
      ]
     },
     "execution_count": 17,
     "metadata": {},
     "output_type": "execute_result"
    }
   ],
   "source": [
    "top_terms"
   ]
  }
 ],
 "metadata": {
  "kernelspec": {
   "display_name": "Python 3 (ipykernel)",
   "language": "python",
   "name": "python3"
  },
  "language_info": {
   "codemirror_mode": {
    "name": "ipython",
    "version": 3
   },
   "file_extension": ".py",
   "mimetype": "text/x-python",
   "name": "python",
   "nbconvert_exporter": "python",
   "pygments_lexer": "ipython3",
   "version": "3.10.13"
  }
 },
 "nbformat": 4,
 "nbformat_minor": 5
}
